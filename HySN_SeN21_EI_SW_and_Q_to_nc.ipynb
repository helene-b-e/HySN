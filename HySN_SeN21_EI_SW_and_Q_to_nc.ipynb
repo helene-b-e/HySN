{
 "cells": [
  {
   "cell_type": "code",
   "execution_count": 1,
   "metadata": {},
   "outputs": [
    {
     "data": {
      "text/html": [
       "<table style=\"border: 2px solid white;\">\n",
       "<tr>\n",
       "<td style=\"vertical-align: top; border: 0px solid white\">\n",
       "<h3>Client</h3>\n",
       "<ul>\n",
       "  <li><b>Scheduler: </b>inproc://157.249.112.195/29173/1\n",
       "  <li><b>Dashboard: </b><a href='http://localhost:8787/status' target='_blank'>http://localhost:8787/status</a>\n",
       "</ul>\n",
       "</td>\n",
       "<td style=\"vertical-align: top; border: 0px solid white\">\n",
       "<h3>Cluster</h3>\n",
       "<ul>\n",
       "  <li><b>Workers: </b>1</li>\n",
       "  <li><b>Cores: </b>4</li>\n",
       "  <li><b>Memory: </b>16.70 GB</li>\n",
       "</ul>\n",
       "</td>\n",
       "</tr>\n",
       "</table>"
      ],
      "text/plain": [
       "<Client: scheduler='inproc://157.249.112.195/29173/1' processes=1 cores=4>"
      ]
     },
     "execution_count": 1,
     "metadata": {},
     "output_type": "execute_result"
    }
   ],
   "source": [
    "import sys, os, glob\n",
    "#!/usr/bin/env python\n",
    "# -*- coding: utf-8 -*-\n",
    "# author: Helene B. Erlandsen\n",
    "from datetime import date\n",
    "today = str(date.today())\n",
    "import numpy as np\n",
    "import pandas as pd\n",
    "import xarray as xr\n",
    "import xarray.ufuncs as xu\n",
    "from dask.diagnostics import ProgressBar\n",
    "from dask.distributed import Client\n",
    "client = Client(processes=False)  # start distributed scheduler locally.  Launch dashboard\n",
    "client\n",
    "#from dask.distributed import Client, LocalCluster\n",
    "#client = Client(processes=False)\n",
    "#lc=LocalCluster()\n",
    "#w=lc.start_worker(ncores=3)"
   ]
  },
  {
   "cell_type": "code",
   "execution_count": 97,
   "metadata": {},
   "outputs": [],
   "source": [
    "import gc #garbage collector\n",
    "from pyproj import Proj\n",
    "#The interpolation could be done with scipy interp,\n",
    "#Basemap interp or xarray interp\n",
    "#choosing to use xesmf cause saves weights, needs pip install \n",
    "import xesmf as xe #pip install / conda pip install\n",
    "from pyproj import Proj"
   ]
  },
  {
   "cell_type": "markdown",
   "metadata": {},
   "source": [
    "import cProfile # if you want to print run time of script\n",
    "pr = cProfile.Profile()"
   ]
  },
  {
   "cell_type": "code",
   "execution_count": 98,
   "metadata": {
    "lines_to_next_cell": 2
   },
   "outputs": [],
   "source": [
    "import matplotlib.pyplot as plt"
   ]
  },
  {
   "cell_type": "code",
   "execution_count": 99,
   "metadata": {},
   "outputs": [],
   "source": [
    "datadir=\"data/\"\n",
    "EIpath=datadir+'ERAI/'\n",
    "#savedir='/lustre/storeB/users/helenebe/HySN/'\n",
    "savedir=datadir+\"HySN/\""
   ]
  },
  {
   "cell_type": "code",
   "execution_count": 100,
   "metadata": {},
   "outputs": [],
   "source": [
    "#Make precip_24hours_means ie 06 UTC to 06 UTC set RRday to True\n",
    "RRday=True\n",
    "if RRday==True:\n",
    "    dayshh=6\n",
    "    lab='right'\n",
    "else:\n",
    "    dayshh=0\n",
    "    lab='left'"
   ]
  },
  {
   "cell_type": "markdown",
   "metadata": {},
   "source": [
    "Constants "
   ]
  },
  {
   "cell_type": "code",
   "execution_count": 101,
   "metadata": {},
   "outputs": [],
   "source": [
    "T0NVE=273.1\n",
    "#-----------------------------------------------------\n",
    "#          EC constants from IFS manual and mars wiki\n",
    "#          Td is calculated for saturation above water\n",
    "ecg=9.80665 #gravitational constant\n",
    "T0=273.16 #K\n",
    "Rd=287.0597 #JK \n",
    "Rv=461.5250 #JK\n",
    "eps=Rd/Rv\n",
    "R=287.# J/kg/K"
   ]
  },
  {
   "cell_type": "code",
   "execution_count": 102,
   "metadata": {},
   "outputs": [],
   "source": [
    "#Buck(1981) used to calculate Td in Era-interim\n",
    "aw=611.21\n",
    "bw=17.502\n",
    "cw=240.97\n",
    "#----------------------------------------------------\n",
    "#AERKi to calculate Tf (freeze point temperature) \n",
    "ai=aw\n",
    "bi=22.587\n",
    "ci=273.86"
   ]
  },
  {
   "cell_type": "code",
   "execution_count": 103,
   "metadata": {},
   "outputs": [],
   "source": [
    "# SW regridding\n",
    "tau=0.720\n",
    "alpha=-1.5E-5"
   ]
  },
  {
   "cell_type": "code",
   "execution_count": 104,
   "metadata": {},
   "outputs": [],
   "source": [
    "#SeNorge initialization -----------------------------\n",
    "SeNorgegeop='http://thredds.met.no/thredds/dodsC/senorge/geoinfo/seNorge2_dem_UTM33.nc'\n",
    "dx=1000."
   ]
  },
  {
   "cell_type": "code",
   "execution_count": 105,
   "metadata": {},
   "outputs": [],
   "source": [
    "SeNorge21T2p='http://thredds.met.no/thredds/dodsC/senorge/seNorge2_1/TEMP1d/seNorge_v2_1_TEMP1d_grid_'\n",
    "SeNyear=1979 # random"
   ]
  },
  {
   "cell_type": "code",
   "execution_count": 106,
   "metadata": {},
   "outputs": [],
   "source": [
    "SeN=xr.open_dataset(SeNorge21T2p+str(SeNyear)+'.nc',chunks={'time': 30})#cache=False) #\n",
    "projs=SeN['UTM_Zone_33'].proj4\n",
    "myP=Proj(projs)"
   ]
  },
  {
   "cell_type": "code",
   "execution_count": 107,
   "metadata": {},
   "outputs": [],
   "source": [
    "#maybe make def below ------------------------------------------\n",
    "Xcorners=np.arange(SeN['X'].data[0]-dx/2., SeN['X'].data[-1]+3*dx/2., dx)\n",
    "Ycorners=np.flipud(np.arange(SeN['Y'].data[-1]-dx/2., SeN['Y'].data[0]+3*dx/2., dx))\n",
    "Lon2, Lat2 = myP(*np.meshgrid(SeN['X'].data,SeN['Y'].data),inverse=True)\n",
    "Lon2b, Lat2b = myP(*np.meshgrid(Xcorners,Ycorners),inverse=True) #"
   ]
  },
  {
   "cell_type": "code",
   "execution_count": 108,
   "metadata": {},
   "outputs": [],
   "source": [
    "lons=np.asarray(Lon2)\n",
    "lats=np.asarray(Lat2)\n",
    "SeN.coords['lat'] = (('Y','X'),Lat2)\n",
    "SeN.coords['lon'] = (('Y','X'),Lon2)\n",
    "#SeN.set_coords(['lat','lon'])"
   ]
  },
  {
   "cell_type": "code",
   "execution_count": 109,
   "metadata": {},
   "outputs": [
    {
     "data": {
      "text/plain": [
       "<xarray.Dataset>\n",
       "Dimensions:           (X: 1195, Xb: 1196, Y: 1550, Yb: 1551, dummy: 1, time: 365)\n",
       "Coordinates:\n",
       "  * X                 (X) float64 -7.45e+04 -7.35e+04 -7.25e+04 -7.15e+04 ...\n",
       "  * dummy             (dummy) float64 1.0\n",
       "  * time              (time) datetime64[ns] 1979-01-01 1979-01-02 1979-01-03 ...\n",
       "  * Y                 (Y) float64 8e+06 7.998e+06 7.998e+06 7.996e+06 ...\n",
       "    lat               (Y, X) float64 71.39 71.4 71.4 71.4 71.4 71.41 71.41 ...\n",
       "    lon               (Y, X) float64 -1.309 -1.282 -1.255 -1.228 -1.201 ...\n",
       "  * Xb                (Xb) float64 -7.5e+04 -7.4e+04 -7.3e+04 -7.2e+04 ...\n",
       "  * Yb                (Yb) float64 8e+06 7.999e+06 7.998e+06 7.997e+06 ...\n",
       "Data variables:\n",
       "    UTM_Zone_33       (dummy) float64 dask.array<shape=(1,), chunksize=(1,)>\n",
       "    mean_temperature  (time, Y, X) float32 dask.array<shape=(365, 1550, 1195), chunksize=(30, 1550, 1195)>\n",
       "Attributes:\n",
       "    Conventions:                     CF-1.4\n",
       "    institution:                     Norwegian Meteorological Institute, met.no\n",
       "    source:                          \n",
       "    References:                      \n",
       "    DODS_EXTRA.Unlimited_Dimension:  time"
      ]
     },
     "execution_count": 109,
     "metadata": {},
     "output_type": "execute_result"
    }
   ],
   "source": [
    "SeN.coords['Xb'] = (Xcorners)\n",
    "SeN.coords['Yb'] = (Ycorners)\n",
    "SeN.set_coords(['Xb','Yb'])"
   ]
  },
  {
   "cell_type": "code",
   "execution_count": 110,
   "metadata": {},
   "outputs": [
    {
     "data": {
      "text/plain": [
       "<xarray.Dataset>\n",
       "Dimensions:           (X: 1195, Xb: 1196, Y: 1550, Yb: 1551, dummy: 1, time: 365)\n",
       "Coordinates:\n",
       "  * X                 (X) float64 -7.45e+04 -7.35e+04 -7.25e+04 -7.15e+04 ...\n",
       "  * dummy             (dummy) float64 1.0\n",
       "  * time              (time) datetime64[ns] 1979-01-01 1979-01-02 1979-01-03 ...\n",
       "  * Y                 (Y) float64 8e+06 7.998e+06 7.998e+06 7.996e+06 ...\n",
       "    lat               (Y, X) float64 71.39 71.4 71.4 71.4 71.4 71.41 71.41 ...\n",
       "    lon               (Y, X) float64 -1.309 -1.282 -1.255 -1.228 -1.201 ...\n",
       "  * Xb                (Xb) float64 -7.5e+04 -7.4e+04 -7.3e+04 -7.2e+04 ...\n",
       "  * Yb                (Yb) float64 8e+06 7.999e+06 7.998e+06 7.997e+06 ...\n",
       "    lat_b             (Yb, Xb) float64 71.4 71.4 71.4 71.4 71.41 71.41 71.41 ...\n",
       "    lon_b             (Yb, Xb) float64 -1.326 -1.299 -1.273 -1.246 -1.219 ...\n",
       "Data variables:\n",
       "    UTM_Zone_33       (dummy) float64 dask.array<shape=(1,), chunksize=(1,)>\n",
       "    mean_temperature  (time, Y, X) float32 dask.array<shape=(365, 1550, 1195), chunksize=(30, 1550, 1195)>\n",
       "Attributes:\n",
       "    Conventions:                     CF-1.4\n",
       "    institution:                     Norwegian Meteorological Institute, met.no\n",
       "    source:                          \n",
       "    References:                      \n",
       "    DODS_EXTRA.Unlimited_Dimension:  time"
      ]
     },
     "execution_count": 110,
     "metadata": {},
     "output_type": "execute_result"
    }
   ],
   "source": [
    "SeN.coords['lat_b'] = (('Yb','Xb'),Lat2b)\n",
    "SeN.coords['lon_b'] = (('Yb','Xb'),Lon2b)\n",
    "SeN.set_coords(['lat_b','lon_b'])"
   ]
  },
  {
   "cell_type": "code",
   "execution_count": 111,
   "metadata": {},
   "outputs": [],
   "source": [
    "write_to_file=False\n",
    "if write_to_file:\n",
    "    mapSN=SeN.drop('mean_temperature')#][0,:,:]\n",
    "    mapSN=mapSN.drop('time')\n",
    "    mapSN.set_coords(['lat_b','lon_b'])\n",
    "    mapSN.to_netcdf('SeN_UTM33_with_crns_4_HySN.nc', mode='w', format='NETCDF4',\n",
    "                    group=None, engine='netcdf4',encoding={'lon': {'_FillValue':False},\n",
    "                                                           'lat': {'_FillValue':False},\n",
    "                                                           'lon_b': {'_FillValue':False},\n",
    "                                                           'lat_b': {'_FillValue':False}})\n",
    "#-------------"
   ]
  },
  {
   "cell_type": "code",
   "execution_count": 112,
   "metadata": {},
   "outputs": [],
   "source": [
    "SeNoro=xr.open_dataset('http://thredds.met.no/thredds/dodsC/senorge/geoinfo/seNorge2_dem_UTM33.nc')\n",
    "SeNorge_oro=SeNoro['elevation']\n",
    "SeNorgemask=SeNorge_oro.isnull() #True/1 for water, False/0 for land\n",
    "SeNorgelsm=SeNorge_oro.notnull()*1.0 #0. for water, 1. for land\n",
    "SeN.coords['mask'] = (('Y', 'X'), SeNorgelsm)\n",
    "SeN['orography'] = (('Y', 'X'), SeNorge_oro)"
   ]
  },
  {
   "cell_type": "markdown",
   "metadata": {},
   "source": [
    "SeNorge is indexed as precip days with the stamp reflecting\n",
    "the accumulated 24 hour precip until the date at 06 hours  "
   ]
  },
  {
   "cell_type": "code",
   "execution_count": 113,
   "metadata": {},
   "outputs": [],
   "source": [
    "#Era init-------------------------------------------------------------------------\n",
    "#Era-Interim data\n",
    "#Era-Interim 6-hourly SW and LW files, from forecasts at 00 and 12 UTC\n",
    "Era_rad_f00 = xr.open_dataset(EIpath+'LW_SW_fc_EI_f00_1979_2017.nc',cache=False)\n",
    "Era_rad_f12 = xr.open_dataset(EIpath+'LW_SW_fc_EI_f12_1979_2017.nc',cache=False)\n",
    "#Era-Interim 2-meter temperature (T2) and 2-meter dew point temperature, from analysis fields\n",
    "Era_termo_a =  xr.open_dataset(EIpath+'t2m_d2m_ps_anaEI_1979_2017.nc',cache=False)\n",
    "#Era-Interim orography\n",
    "Era_oro = xr.open_dataset(EIpath+'oro_veg_lmaskEClim.nc')"
   ]
  },
  {
   "cell_type": "markdown",
   "metadata": {},
   "source": [
    "Era-Interim grid"
   ]
  },
  {
   "cell_type": "code",
   "execution_count": 114,
   "metadata": {},
   "outputs": [],
   "source": [
    "eclat=Era_rad_f00['latitude'][:]\n",
    "eclon=Era_rad_f00['longitude'][:]\n",
    "dl=abs(eclat.diff('latitude').data[0])\n",
    "lonc=np.arange(eclon.data[0]-dl/2., eclon.data[-1]+3*dl/2., dl)\n",
    "latc=np.flipud(np.arange(eclat.data[-1]-dl/2., eclat.data[0]+3*dl/2., dl))"
   ]
  },
  {
   "cell_type": "code",
   "execution_count": 115,
   "metadata": {},
   "outputs": [],
   "source": [
    "def fixcoords(var):\n",
    "    var=var.rename({'longitude': 'lon', 'latitude': 'lat'})\n",
    "    var.coords['lat_b'] = (latc)\n",
    "    var.coords['lon_b'] = (lonc)\n",
    "    var.set_coords(['lat_b','lon_b'])\n",
    "    return var"
   ]
  },
  {
   "cell_type": "code",
   "execution_count": 116,
   "metadata": {},
   "outputs": [],
   "source": [
    "Era_rad_f00=fixcoords(Era_rad_f00)\n",
    "Era_rad_f12=fixcoords(Era_rad_f12)\n",
    "Era_oro=fixcoords(Era_oro)\n",
    "Era_termo_a=fixcoords(Era_termo_a)"
   ]
  },
  {
   "cell_type": "code",
   "execution_count": 117,
   "metadata": {},
   "outputs": [],
   "source": [
    "ecsgeo=Era_oro['z'][0]  \n",
    "ecmaskb=Era_oro['lsm'][0] #True/1 for water\n",
    "ecnamask=ecmaskb.where(ecmaskb==1.,np.nan)\n",
    "ecmask=ecnamask.notnull() \n",
    "ECoro=ecsgeo/ecg\n",
    "ECoro.attrs['units'] = 'meters'\n",
    "ECoro.name='orography'"
   ]
  },
  {
   "cell_type": "code",
   "execution_count": 118,
   "metadata": {},
   "outputs": [],
   "source": [
    "Era_oro.coords['mask'] = (('lat', 'lon'), ecmaskb)\n",
    "Era_oro['orography']=(['lat', 'lon'], ECoro.data, ECoro.attrs)\n",
    "savEra=False\n",
    "if savEra:\n",
    "    Era_oro.to_netcdf('./data/ERAI/Era_with_crns.nc',encoding={'lon': {'_FillValue':False},'lat': {'_FillValue':False},'lon_b': {'_FillValue':False},'lat_b': {'_FillValue':False}})"
   ]
  },
  {
   "cell_type": "code",
   "execution_count": 119,
   "metadata": {},
   "outputs": [],
   "source": [
    "#Making daily means with prcipitation days 06-06UTC:\n",
    "T2E=Era_termo_a['t2m'].resample(time='24h', base=dayshh,label=lab).mean(dim='time')\n",
    "T2dE=Era_termo_a['d2m'].resample(time='24h', base=dayshh,label=lab).mean(dim='time')\n",
    "psE=Era_termo_a['sp'].resample(time='24h', base=dayshh,label=lab).mean(dim='time')"
   ]
  },
  {
   "cell_type": "code",
   "execution_count": 120,
   "metadata": {},
   "outputs": [],
   "source": [
    "T2E[0, :,:]=np.nan # first day is not 24 hours for radiation\n",
    "T2E=T2E.dropna('time',how='all')\n",
    "T2dE[0, :,:]=np.nan # first day is not 24 hours for radiation\n",
    "T2dE=T2dE.dropna('time',how='all')\n",
    "psE[0, :,:]=np.nan # first day is not 24 hours for radiation\n",
    "psE=psE.dropna('time',how='all')"
   ]
  },
  {
   "cell_type": "code",
   "execution_count": 121,
   "metadata": {},
   "outputs": [],
   "source": [
    "#Era-Interim Vapour pressure\n",
    "e2w=aw*np.exp(bw*(T2dE-T0)/(T2dE-T0 +cw))#/1000. #for water, ref ifs copernicus knowledge base"
   ]
  },
  {
   "cell_type": "code",
   "execution_count": 122,
   "metadata": {},
   "outputs": [],
   "source": [
    "#Era-Interim saturation vapour pressure\n",
    "e2si=ai*np.exp(bi*(T2E-T0)/(T2E-T0 +ci))\n",
    "e2sw=aw*np.exp(bw*(T2E-T0)/(T2E-T0 +cw))"
   ]
  },
  {
   "cell_type": "code",
   "execution_count": 123,
   "metadata": {},
   "outputs": [],
   "source": [
    "#do not need to use enhancement factors because they are cancelled for RH \n",
    "RHEw=e2w/e2sw*100.\n",
    "RHEi=e2w/e2si*100.\n",
    "#check RH not more than 100%\n",
    "RHEi=RHEi.where(RHEi<100.,100.)\n",
    "RHEw=RHEw.where(RHEw<100.,100.)"
   ]
  },
  {
   "cell_type": "code",
   "execution_count": null,
   "metadata": {},
   "outputs": [],
   "source": []
  },
  {
   "cell_type": "code",
   "execution_count": 124,
   "metadata": {},
   "outputs": [],
   "source": [
    "#Incident SW at two forecast times ---------------------------\n",
    "# 00 has 12-24, 12 has 24(00)-12 to have spin up in diag fields\n",
    "SW00acc=Era_rad_f00['ssrd']\n",
    "SW12acc=Era_rad_f12['ssrd']\n",
    "LW00acc=Era_rad_f00['strd']\n",
    "LW12acc=Era_rad_f12['strd'] "
   ]
  },
  {
   "cell_type": "markdown",
   "metadata": {},
   "source": [
    "The fluxes are in two files from two forecast times. Want half a day from each file\n",
    "previous 6 hours average inst SW flux starts at ind 1 not 0. units are [J/m2]:\n",
    "to get [J/s/m2=W/m2] divide with 3600*6"
   ]
  },
  {
   "cell_type": "code",
   "execution_count": null,
   "metadata": {},
   "outputs": [],
   "source": [
    "#will drop first date and the second date now holds the past 6hrs mean flux\n",
    "SW00=SW00acc.diff('time')/(6.*60.*60.) \n",
    "SW12=SW12acc.diff('time')/(6.*60.*60.)\n",
    "LW00=LW00acc.diff('time')/(6.*60.*60.) \n",
    "LW12=LW12acc.diff('time')/(6.*60.*60.)"
   ]
  },
  {
   "cell_type": "code",
   "execution_count": null,
   "metadata": {},
   "outputs": [],
   "source": [
    "#Every third acc. flux holds the diff between last time\n",
    "# in last forecast and newest in next: delete 2::3\n",
    "SW00[2::3, :,:]=np.nan \n",
    "SW00=SW00.dropna('time',how='all')\n",
    "SW12[2::3, :,:]=np.nan\n",
    "SW12=SW12.dropna('time',how='all')\n",
    "SW=SW00.combine_first(SW12) #combine the two"
   ]
  },
  {
   "cell_type": "code",
   "execution_count": null,
   "metadata": {},
   "outputs": [],
   "source": [
    "#Every third acc. flux holds the diff between last time\n",
    "# in last forecast and newest in next: delete 2::3\n",
    "LW00[2::3, :,:]=np.nan \n",
    "LW00=LW00.dropna('time',how='all')\n",
    "LW12[2::3, :,:]=np.nan\n",
    "LW12=LW12.dropna('time',how='all')\n",
    "LW=LW00.combine_first(LW12) #combine the two"
   ]
  },
  {
   "cell_type": "code",
   "execution_count": null,
   "metadata": {},
   "outputs": [],
   "source": [
    "SW=SW.resample(time='24h', base=dayshh,label=lab).mean(dim='time') #precip day mean\n",
    "SW[0, :,:]=np.nan # first day is not 24 hours\n",
    "SW=SW.dropna('time',how='all')"
   ]
  },
  {
   "cell_type": "code",
   "execution_count": null,
   "metadata": {},
   "outputs": [],
   "source": [
    "LW=LW.resample(time='24h', base=dayshh,label=lab).mean(dim='time') #precip day mean\n",
    "LW[0, :,:]=np.nan # first day is not 24 hours\n",
    "LW=LW.dropna('time',how='all')"
   ]
  },
  {
   "cell_type": "code",
   "execution_count": null,
   "metadata": {
    "lines_to_next_cell": 2
   },
   "outputs": [],
   "source": [
    "# alligns the SW data with the rest\n",
    "# specific to my two EC-files that this is enough\n",
    "SW,dump=xr.align(SW,RHEw, join='inner')\n",
    "LW,dump=xr.align(LW,RHEw, join='inner')"
   ]
  },
  {
   "cell_type": "markdown",
   "metadata": {},
   "source": [
    "Regridding this is based on\n",
    "pip install --upgrade git+https://github.com/JiaweiZhuang/xESMF.git@masking\n",
    "(https://github.com/JiaweiZhuang/xESMF/issues/22)\n",
    "regridder_consnorm=xe.Regridder(Era_oro, SeN, 'conservative_normed',reuse_weights=True)"
   ]
  },
  {
   "cell_type": "code",
   "execution_count": null,
   "metadata": {},
   "outputs": [],
   "source": [
    "regridder=xe.Regridder(Era_oro, SeN, 'bilinear',reuse_weights=True)"
   ]
  },
  {
   "cell_type": "code",
   "execution_count": null,
   "metadata": {},
   "outputs": [],
   "source": [
    "regridder_s2d = xe.Regridder(Era_oro, SeN, 'nearest_s2d',reuse_weights=True)"
   ]
  },
  {
   "cell_type": "code",
   "execution_count": null,
   "metadata": {},
   "outputs": [],
   "source": [
    "dr_mask_bil=regridder(Era_oro['mask'])\n",
    "extrapolate=dr_mask_bil.where(dr_mask_bil!=0,-99999)\n",
    "dr_mask=regridder_s2d(Era_oro['mask'])"
   ]
  },
  {
   "cell_type": "code",
   "execution_count": null,
   "metadata": {},
   "outputs": [],
   "source": [
    "#after much thought using bilinear on all except near coast for consistency\n",
    "#1:since Era-I is already bil-interp from MARS\n",
    "#2:since going from 0.75deg to 1km --> diff only a few points\n",
    "#3:on all vars and params for consistency:\n",
    "#i.e. if Eras T2 is bilinearly interp and then oro is not,\n",
    "# the ds will be somewhat inconsistent as T2=b+lapse*z\n",
    "dr_oro_bil=regridder(Era_oro['orography'])\n",
    "dr_oro_s2d=regridder_s2d(Era_oro['orography'])\n",
    "dr_oro=dr_oro_bil.where(extrapolate!=-99999, dr_oro_s2d)\n",
    "gc.collect()"
   ]
  },
  {
   "cell_type": "code",
   "execution_count": null,
   "metadata": {
    "lines_to_next_cell": 2
   },
   "outputs": [],
   "source": [
    "#--DZ--------\n",
    "dz=SeN['orography']-dr_oro #dz.plot();plt.show()\n",
    "#dzmask=ma.masked_array(dz,Commask) #masked to common land points\n",
    "#print('mean elevation diff (SeNorge-Erai):', ma.mean(dzmask))"
   ]
  },
  {
   "cell_type": "code",
   "execution_count": null,
   "metadata": {},
   "outputs": [],
   "source": [
    "def regrid2step(data):\n",
    "    dr_out_bil=regridder(data)\n",
    "    #dr_out_cons_norm=regridder_consnorm(data)\n",
    "    dr_outs2d=regridder_s2d(data)\n",
    "    #outside mapped places nearest s2d:  \n",
    "    dr_out=dr_out_bil.where(extrapolate != -99999, dr_outs2d)\n",
    "    #add coords\n",
    "    dr_out.coords['X'] = (SeN['X'].data)\n",
    "    dr_out.coords['Y'] = (SeN['Y'].data)\n",
    "    dr_out.coords['mask']=SeN['mask'].astype('i2')\n",
    "    dr_out.name=data.name\n",
    "    dr_out=dr_out.astype('f4')\n",
    "    return dr_out"
   ]
  },
  {
   "cell_type": "code",
   "execution_count": null,
   "metadata": {},
   "outputs": [],
   "source": [
    "def writetotmp_nc(data,pn):\n",
    "    filname='tmp/'+data.name+pn+'.nc'\n",
    "    data.to_netcdf(filname,encoding={data.name:{'dtype': 'f4', '_FillValue': -9999}})\n",
    "    #faster IO w/o zlib, but takes much more space "
   ]
  },
  {
   "cell_type": "code",
   "execution_count": null,
   "metadata": {
    "lines_to_next_cell": 2
   },
   "outputs": [],
   "source": [
    "# To work with pc memory, and due to issues with dask+opendap\n",
    "# the data is sliced in time\n",
    "# Three bolks a year ['p1', 'p2','p3']\n",
    "#p1ul='<120'; p2ll='>=120'; p2ul='<140'; p3ll='>=140'\n",
    "loweri = {}; upperi={}\n",
    "loweri['p1']=0\n",
    "loweri['p2']=120\n",
    "loweri['p3']=240\n",
    "upperi['p1']=120\n",
    "upperi['p2']=240\n",
    "upperi['p3']=None"
   ]
  },
  {
   "cell_type": "code",
   "execution_count": null,
   "metadata": {},
   "outputs": [],
   "source": [
    "for filename in glob.glob('tmp/*') :\n",
    "    os.remove( filename )      "
   ]
  },
  {
   "cell_type": "code",
   "execution_count": null,
   "metadata": {},
   "outputs": [
    {
     "name": "stdout",
     "output_type": "stream",
     "text": [
      "regridding p1\n",
      "regridded p1 1981\n",
      "regridding p2\n",
      "regridded p2 1981\n",
      "regridding p3\n",
      "regridded p3 1981\n",
      "Starting downscaling\n",
      "Writing downscaled surface pressure for year 1981 to file:data/HySN/HySN_Surface_Pressure_1981.nc\n"
     ]
    },
    {
     "name": "stderr",
     "output_type": "stream",
     "text": [
      "/home/helenebe/anaconda3/lib/python3.6/site-packages/distributed/worker.py:901: UserWarning: Large object of size 14.86 MB detected in task graph: \n",
      "  ('store-4cb8f3f2-bc0e-11e8-a264-cde424c367b7', <xa ... x7f84feaf3400>)\n",
      "Consider scattering large objects ahead of time\n",
      "with client.scatter to reduce scheduler burden and \n",
      "keep data on workers\n",
      "\n",
      "    future = client.submit(func, big_data)    # bad\n",
      "\n",
      "    big_future = client.scatter(big_data)     # good\n",
      "    future = client.submit(func, big_future)  # good\n",
      "  % (format_bytes(len(b)), s))\n"
     ]
    }
   ],
   "source": [
    "for yr in np.arange(1981,2016): #make loop\n",
    "    SeNT=xr.open_dataset(SeNorge21T2p+str(yr)+'.nc',cache=False) #temperature in Celsius\n",
    "    if RRday: \n",
    "        SeNT.coords['time']=SeNT.indexes['time']+pd.Timedelta(hours=6) #adding the six hours\n",
    "\n",
    "    SeNT.encoding={'time': dict(unlimited=False)}\n",
    "\n",
    "    for pn in ['p1', 'p2','p3']:\n",
    "        SeNTu=SeNT['mean_temperature'][loweri[pn]:upperi[pn],:,:]\n",
    "        SeNTu,SWp=xr.align(SeNTu,SW, join='inner')\n",
    "        SeNTu,LWp=xr.align(SeNTu,LW, join='inner')\n",
    "        SeNTu,psp=xr.align(SeNTu,psE, join='inner')\n",
    "        SeNTu,RHwp=xr.align(SeNTu,RHEw, join='inner')\n",
    "        RHwp.name='RHw'\n",
    "        SeNTu,RHip=xr.align(SeNTu,RHEi, join='inner')\n",
    "        RHip.name='RHi'\n",
    "        SeNTu,T2p=xr.align(SeNTu,T2E, join='inner')\n",
    "        SeNTu,e2p=xr.align(SeNTu,e2w, join='inner')\n",
    "        e2p.name='e2'\n",
    "\n",
    "        writetotmp_nc(SeNTu,pn=pn)\n",
    "\n",
    "        #--Regridding some variables----------\n",
    "        print('regridding '+pn)\n",
    "        Mps=regrid2step(psp)\n",
    "        writetotmp_nc(Mps,pn=pn)\n",
    "        Epsn=Mps.name\n",
    "        del Mps\n",
    "        MT2=regrid2step(T2p)\n",
    "        writetotmp_nc(MT2,pn=pn)\n",
    "        ET2n=MT2.name\n",
    "        del MT2\n",
    "        MRHw=regrid2step(RHwp)\n",
    "        writetotmp_nc(MRHw,pn=pn)\n",
    "        ERHwn=MRHw.name\n",
    "        del MRHw\n",
    "        gc.collect()\n",
    "        MRHi=regrid2step(RHip)\n",
    "        writetotmp_nc(MRHi,pn=pn)\n",
    "        ERHin=MRHi.name\n",
    "        del MRHi\n",
    "        MSW=regrid2step(SWp)\n",
    "        writetotmp_nc(MSW,pn=pn)\n",
    "        ESWn=MSW.name\n",
    "        del MSW\n",
    "        MLW=regrid2step(LWp)\n",
    "        writetotmp_nc(MLW,pn=pn)\n",
    "        ELWn=MLW.name\n",
    "        del MLW\n",
    "        Me2=regrid2step(e2p)\n",
    "        writetotmp_nc(Me2,pn=pn)\n",
    "        Ee2n=Me2.name\n",
    "        del Me2\n",
    "        print('regridded '+pn+' '+str(yr))\n",
    "        gc.collect()\n",
    "    del SeNTu\n",
    "\n",
    "    gc.collect()\n",
    "\n",
    "    # START ------------------------------------------------------------\n",
    "    print('Starting downscaling')\n",
    "\n",
    "    #The first part is based on Cosgrove and similar to the PGF/WATCH downscaling\n",
    "\n",
    "    SeNT=xr.open_mfdataset('tmp/mean_temperature'+'*.nc',chunks={'time': 10})\n",
    "    SeNTr=SeNT['mean_temperature']\n",
    "    SeNTr.attrs={}\n",
    "\n",
    "    EraT=xr.open_mfdataset('tmp/'+T2E.name+'*.nc',chunks={'time': 10})\n",
    "    EraTr=EraT[T2E.name]\n",
    "\n",
    "    #calculating hypso adjusted pressure\n",
    "    Eps=xr.open_mfdataset('tmp/'+psE.name+'*.nc',chunks={'time': 10})\n",
    "    Epsr=Eps[psE.name]\n",
    "\n",
    "    pSN=Epsr/xu.exp(ecg*dz/(Rd*((SeNTr+T0NVE)+EraTr)/2.)) #Kelvin\n",
    "\n",
    "    #Make DataArray to nice dataset\n",
    "    pSN.name='sp'\n",
    "    pSN.attrs['longname']='surface pressure'\n",
    "    pSN.attrs['unit']='Pa'\n",
    "    pSN.attrs['notes']='Instantaneous, average of the last 24 hours, sampled every six hours.'\n",
    "    pSN.attrs['date_created'] = today\n",
    "    pSN.attrs['license'] = 'Norwegian Licence for Open Government Data (NLOD), https://data.norge.no/nlod/en/1.0'\n",
    "    pSN.attrs['creator_name'] = 'Helene B. Erlandsen'\n",
    "    pSN.attrs['proj4']=projs\n",
    "\n",
    "    delayed_obj = pSN.to_netcdf(savedir+'HySN_Surface_Pressure_'+str(yr)+'.nc',\n",
    "                                compute=False,unlimited_dims=None,\n",
    "                                encoding={pSN.name:{'dtype': 'i4','_FillValue': -9999,'zlib':True},\n",
    "                                          'lon': {'dtype': 'f4','_FillValue':False},\n",
    "                                          'lat': {'dtype': 'f4','_FillValue':False},\n",
    "                                          'X': {'dtype': 'f4','_FillValue':False},\n",
    "                                          'Y': {'dtype': 'f4','_FillValue':False},\n",
    "                                          'mask':{'dtype':'i2','_FillValue': -9999},\n",
    "                                          'time':{'dtype':'f8'}}) \n",
    "\n",
    "    print('Writing downscaled surface pressure for year '+str(yr) +' to file:'+\n",
    "          savedir+'HySN_Surface_Pressure_'+str(yr)+'.nc')\n",
    "    with ProgressBar():\n",
    "          results = delayed_obj.compute()\n",
    "\n",
    "    gc.collect()\n",
    "\n",
    "    ##-------------------------------------------------------------------\n",
    "    #Calculating adjusted vapour pressure assuming constant RH with height\n",
    "    ERHw=xr.open_mfdataset('tmp/RHw'+'*.nc',chunks={'time': 10})\n",
    "    ERHwr=ERHw['RHw']\n",
    "    ERHi=xr.open_mfdataset('tmp/RHi'+'*.nc',chunks={'time': 10})\n",
    "    ERHir=ERHi['RHi']\n",
    "\n",
    "    #in Celsius:\n",
    "    TdH0w=cw*(xu.log(ERHwr/100.) + bw*SeNTr/(cw+SeNTr))/(bw-xu.log(ERHwr/100.)-bw*SeNTr/(cw+SeNTr))\n",
    "    TdH0i=ci*(xu.log(ERHir/100.) + bi*SeNTr/(ci+SeNTr))/(bi-xu.log(ERHir/100.)-bi*SeNTr/(ci+SeNTr)) \n",
    "\n",
    "    fw=(1.00071*xu.exp(0.0000045*pSN/100.)) #Ald Esk 1996 eq 17\n",
    "    fi=(0.99882*xu.exp(0.000008*pSN/100.)) #Ald Esk 1996 eq 18\n",
    "\n",
    "    eHw=fw*aw*xu.exp(bw*TdH0w/(cw+TdH0w))# Buck\n",
    "    eHi=fi*ai*xu.exp(bi*TdH0i/(ci+TdH0i))# AERK ice eq 24 want temp in C, p in hPa     \n",
    "    eH=eHi.where(SeNTr<0, eHw) #test if tmean is lower than zero\n",
    "\n",
    "    qH=eps*eH/(pSN-(1-eps)*eH) #are all in Pa\n",
    "    qH.name='huss'\n",
    "    qH.attrs['longname']='Near-Surface Specific Humidity'\n",
    "    qH.attrs[ 'unit']='kg kg-1'\n",
    "    qH.attrs['conversion_formula']='eps*e/(ps(1-eps)*e)'\n",
    "    qH.attrs['notes']='Instantaneous, average of the last 24 hours, sampled every six hours.'\n",
    "    qH.attrs['date_created'] = today\n",
    "    qH.attrs['license'] = 'Norwegian Licence for Open Government Data (NLOD), https://data.norge.no/nlod/en/1.0'\n",
    "    qH.attrs['creator_name'] = 'Helene B. Erlandsen'\n",
    "    qH.attrs['proj4']=projs\n",
    "\n",
    "    delayed_obj = qH.to_netcdf(savedir+'HySN_Near_Surface_Specific_Humidity_'+str(yr)+'.nc',\n",
    "                               compute=False,unlimited_dims=None,\n",
    "                               encoding={qH.name:{'dtype': 'f8','_FillValue': -9999.,\n",
    "                                                  'least_significant_digit':6,'zlib':True},\n",
    "                                         'lon': {'dtype': 'f4','_FillValue':False},\n",
    "                                         'lat': {'dtype': 'f4','_FillValue':False},\n",
    "                                         'X': {'dtype': 'f4','_FillValue':False},\n",
    "                                         'Y': {'dtype': 'f4','_FillValue':False},\n",
    "                                         'mask':{'dtype':'i2','_FillValue': -9999},\n",
    "                                         'time':{'dtype':'f8'}})\n",
    "\n",
    "    print('Writing downscaled specific humidity for year '+str(yr) +' to file:'\n",
    "          +savedir+'HySN_Near_Surface_Specific_Humidity_'+str(yr)+'.nc')\n",
    "    with ProgressBar():\n",
    "          results = delayed_obj.compute()\n",
    "\n",
    "    #Longwave clear sky scaling \n",
    "    Ee=xr.open_mfdataset('tmp/e2'+'*.nc',chunks={'time': 10})\n",
    "    Eer=Ee['e2']\n",
    "    ET2=xr.open_mfdataset('tmp/t2m'+'*.nc',chunks={'time': 10})\n",
    "    ET2r=ET2['t2m']\n",
    "    ELW=xr.open_mfdataset('tmp/strd'+'*.nc',chunks={'time': 10})\n",
    "    ELWr=ELW['strd']\n",
    "\n",
    "    #check power in dask xr\n",
    "    epsE=1.08*(1-xu.exp(-((Eer/100.)**(ET2r/2016.))))#hpa correct\n",
    "    epsH=1.08*(1-xu.exp(-((eH/100.)**((SeNTr+T0NVE)/2016.)))) #satterlund 1969 \n",
    "    sca=(epsH/epsE)*((SeNTr+T0NVE)/ET2r)**4\n",
    "    LWSN=sca*ELW\n",
    "\n",
    "    LWSN=LWSN.rename({'strd':'rlds'})\n",
    "    #LWSN.name='rlds' \n",
    "    LWSN['rlds'].attrs['longname']='Surface Downwelling Longwave Radiation'\n",
    "    LWSN['rlds'].attrs['unit']='W m-2'\n",
    "    LWSN['rlds'].attrs['notes']='Average over the last 24 hours. Positive downwards'\n",
    "    LWSN.attrs['date_created'] = today\n",
    "    LWSN.attrs['license'] = 'Norwegian Licence for Open Government Data (NLOD), https://data.norge.no/nlod/en/1.0'\n",
    "    LWSN.attrs['creator_name'] = 'Helene B. Erlandsen'\n",
    "    LWSN.attrs['proj4']=projs\n",
    "\n",
    "    delayed_obj = LWSN.to_netcdf(savedir+'HySN_Surface_Downwelling_Longwave_Radiation_'+str(yr)+'.nc',\n",
    "                                 compute=False,unlimited_dims=None,\n",
    "                                 encoding={'rlds':{'dtype': 'f8','_FillValue': -9999.,\n",
    "                                                   'least_significant_digit':2,'zlib':True},\n",
    "                                           'lon': {'dtype': 'f4','_FillValue':False},\n",
    "                                           'lat': {'dtype': 'f4','_FillValue':False},\n",
    "                                           'X': {'dtype': 'f4','_FillValue':False},\n",
    "                                           'Y': {'dtype': 'f4','_FillValue':False},\n",
    "                                           'mask':{'dtype':'i2','_FillValue': -9999},\n",
    "                                           'time':{'dtype':'f8'}})\n",
    "\n",
    "    print('Writing downscaled longwave radiation for year '+str(yr) +\n",
    "          ' to file:'+savedir+'HySN_Surface_Downwelling_Longwave_Radiation_'+str(yr)+'.nc')\n",
    "    with ProgressBar():\n",
    "          results = delayed_obj.compute()\n",
    "\n",
    "    ###---------------------------------------------------------------\n",
    "    ### Cosgrove end ------------------------------------------------\n",
    "\n",
    "    # SW clear sky scaling T&R --------------------------------------\n",
    "\n",
    "    #tau_H=np.power(tau,pSN/101300.)+alpha*eH\n",
    "    tau_H=tau**(pSN/101300.)+alpha*eH\n",
    "    tau_E=tau**(Epsr/101300.)+alpha*Eer\n",
    "    Taut_ratio=tau_H/tau_E\n",
    "\n",
    "    ESW=xr.open_mfdataset('tmp/ssrd'+'*.nc',chunks={'time': 10})\n",
    "    ESWr=ESW['ssrd']\n",
    "\n",
    "    SWSN=(Taut_ratio**2)*ESWr\n",
    "    SWSN.name='rsds'\n",
    "    SWSN.attrs['longname']='Surface Downwelling Shortwave Radiation'\n",
    "    SWSN.attrs['unit']='W m-2'\n",
    "    SWSN.attrs['notes']='Average over the last 24 hours. Positive downwards'\n",
    "    SWSN.attrs['date_created'] = today\n",
    "    SWSN.attrs['license'] = 'Norwegian Licence for Open Government Data (NLOD),https://data.norge.no/nlod/en/1.0'\n",
    "    SWSN.attrs['creator_name'] = 'Helene B. Erlandsen'\n",
    "    SWSN.attrs['proj4']=projs\n",
    "    #SWSN.attrs['creator_email'] = 'hebe@nve.no'\n",
    "    #ncfile.Proj4_string=\n",
    "\n",
    "\n",
    "    delayed_obj=SWSN.to_netcdf(savedir+'HySN_Surface_Downwelling_Shortwave_Radiation_'+str(yr)+'.nc',\n",
    "                               compute=False,unlimited_dims=None,\n",
    "                               encoding={'rsds':{'dtype': 'f8','_FillValue': -9999.,\n",
    "                                                 'least_significant_digit':1,'zlib':True},\n",
    "                                         'lon': {'dtype': 'f4','_FillValue':False},\n",
    "                                         'lat': {'dtype': 'f4','_FillValue':False},\n",
    "                                         'X': {'dtype': 'f4','_FillValue':False},\n",
    "                                         'Y': {'dtype': 'f4','_FillValue':False},\n",
    "                                         'mask':{'dtype':'i2','_FillValue': -9999},\n",
    "                                         'time':{'dtype':'f8'}})\n",
    "\n",
    "    print('Writing downscaled shortwave radiation for year '+str(yr) +\n",
    "          ' to file:'+savedir+'HySN_Surface_Downwelling_Shortwave_Radiation_'+str(yr)+'.nc')\n",
    "    with ProgressBar():\n",
    "          results = delayed_obj.compute()\n",
    "\n",
    "    for filename in glob.glob('tmp/*') :\n",
    "        os.remove( filename )      "
   ]
  },
  {
   "cell_type": "code",
   "execution_count": null,
   "metadata": {
    "collapsed": true
   },
   "outputs": [],
   "source": [
    "print('done all')"
   ]
  },
  {
   "cell_type": "code",
   "execution_count": null,
   "metadata": {
    "collapsed": true,
    "lines_to_next_cell": 2
   },
   "outputs": [],
   "source": []
  }
 ],
 "metadata": {
  "kernelspec": {
   "display_name": "Python 3",
   "language": "python",
   "name": "python3"
  },
  "language_info": {
   "codemirror_mode": {
    "name": "ipython",
    "version": 3
   },
   "file_extension": ".py",
   "mimetype": "text/x-python",
   "name": "python",
   "nbconvert_exporter": "python",
   "pygments_lexer": "ipython3",
   "version": "3.6.3"
  },
  "main_language": "python"
 },
 "nbformat": 4,
 "nbformat_minor": 2
}
